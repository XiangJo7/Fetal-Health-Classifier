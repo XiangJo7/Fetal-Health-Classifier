{
 "cells": [
  {
   "cell_type": "markdown",
   "metadata": {},
   "source": [
    "# Classifying the Health Status of Foeti"
   ]
  },
  {
   "cell_type": "markdown",
   "metadata": {},
   "source": [
    "Created by Joshua Yim Wei Xiang"
   ]
  },
  {
   "cell_type": "markdown",
   "metadata": {},
   "source": [
    "### Project Background"
   ]
  },
  {
   "cell_type": "code",
   "execution_count": null,
   "metadata": {},
   "outputs": [],
   "source": []
  },
  {
   "cell_type": "markdown",
   "metadata": {},
   "source": [
    "### Library Importing"
   ]
  },
  {
   "cell_type": "code",
   "execution_count": 82,
   "metadata": {},
   "outputs": [],
   "source": [
    "import pandas as pd\n",
    "import seaborn as sns\n",
    "import matplotlib.pyplot as plt\n",
    "import statsmodels.api as sm\n",
    "import numpy as np\n",
    "\n",
    "from imblearn.over_sampling import SMOTE\n",
    "from sklearn import preprocessing\n",
    "from sklearn.model_selection import train_test_split, GridSearchCV\n",
    "from sklearn.linear_model import LogisticRegression\n",
    "from sklearn.metrics import accuracy_score, confusion_matrix, classification_report\n",
    "from sklearn.metrics import roc_auc_score, roc_curve"
   ]
  },
  {
   "cell_type": "markdown",
   "metadata": {},
   "source": [
    "### Fetal Health Dataframe "
   ]
  },
  {
   "cell_type": "code",
   "execution_count": 2,
   "metadata": {
    "scrolled": true
   },
   "outputs": [
    {
     "data": {
      "text/html": [
       "<div>\n",
       "<style scoped>\n",
       "    .dataframe tbody tr th:only-of-type {\n",
       "        vertical-align: middle;\n",
       "    }\n",
       "\n",
       "    .dataframe tbody tr th {\n",
       "        vertical-align: top;\n",
       "    }\n",
       "\n",
       "    .dataframe thead th {\n",
       "        text-align: right;\n",
       "    }\n",
       "</style>\n",
       "<table border=\"1\" class=\"dataframe\">\n",
       "  <thead>\n",
       "    <tr style=\"text-align: right;\">\n",
       "      <th></th>\n",
       "      <th>baseline value</th>\n",
       "      <th>accelerations</th>\n",
       "      <th>fetal_movement</th>\n",
       "      <th>uterine_contractions</th>\n",
       "      <th>light_decelerations</th>\n",
       "      <th>severe_decelerations</th>\n",
       "      <th>prolongued_decelerations</th>\n",
       "      <th>abnormal_short_term_variability</th>\n",
       "      <th>mean_value_of_short_term_variability</th>\n",
       "      <th>percentage_of_time_with_abnormal_long_term_variability</th>\n",
       "      <th>...</th>\n",
       "      <th>histogram_min</th>\n",
       "      <th>histogram_max</th>\n",
       "      <th>histogram_number_of_peaks</th>\n",
       "      <th>histogram_number_of_zeroes</th>\n",
       "      <th>histogram_mode</th>\n",
       "      <th>histogram_mean</th>\n",
       "      <th>histogram_median</th>\n",
       "      <th>histogram_variance</th>\n",
       "      <th>fetal_health</th>\n",
       "      <th>hist_tendency</th>\n",
       "    </tr>\n",
       "  </thead>\n",
       "  <tbody>\n",
       "    <tr>\n",
       "      <th>0</th>\n",
       "      <td>120.0</td>\n",
       "      <td>0.000</td>\n",
       "      <td>0.0</td>\n",
       "      <td>0.000</td>\n",
       "      <td>0.000</td>\n",
       "      <td>0.0</td>\n",
       "      <td>0.0</td>\n",
       "      <td>73.0</td>\n",
       "      <td>0.5</td>\n",
       "      <td>43.0</td>\n",
       "      <td>...</td>\n",
       "      <td>62.0</td>\n",
       "      <td>126.0</td>\n",
       "      <td>2.0</td>\n",
       "      <td>0.0</td>\n",
       "      <td>120.0</td>\n",
       "      <td>137.0</td>\n",
       "      <td>121.0</td>\n",
       "      <td>73.0</td>\n",
       "      <td>2.0</td>\n",
       "      <td>2.0</td>\n",
       "    </tr>\n",
       "    <tr>\n",
       "      <th>1</th>\n",
       "      <td>132.0</td>\n",
       "      <td>0.006</td>\n",
       "      <td>0.0</td>\n",
       "      <td>0.006</td>\n",
       "      <td>0.003</td>\n",
       "      <td>0.0</td>\n",
       "      <td>0.0</td>\n",
       "      <td>17.0</td>\n",
       "      <td>2.1</td>\n",
       "      <td>0.0</td>\n",
       "      <td>...</td>\n",
       "      <td>68.0</td>\n",
       "      <td>198.0</td>\n",
       "      <td>6.0</td>\n",
       "      <td>1.0</td>\n",
       "      <td>141.0</td>\n",
       "      <td>136.0</td>\n",
       "      <td>140.0</td>\n",
       "      <td>12.0</td>\n",
       "      <td>1.0</td>\n",
       "      <td>1.0</td>\n",
       "    </tr>\n",
       "    <tr>\n",
       "      <th>2</th>\n",
       "      <td>133.0</td>\n",
       "      <td>0.003</td>\n",
       "      <td>0.0</td>\n",
       "      <td>0.008</td>\n",
       "      <td>0.003</td>\n",
       "      <td>0.0</td>\n",
       "      <td>0.0</td>\n",
       "      <td>16.0</td>\n",
       "      <td>2.1</td>\n",
       "      <td>0.0</td>\n",
       "      <td>...</td>\n",
       "      <td>68.0</td>\n",
       "      <td>198.0</td>\n",
       "      <td>5.0</td>\n",
       "      <td>1.0</td>\n",
       "      <td>141.0</td>\n",
       "      <td>135.0</td>\n",
       "      <td>138.0</td>\n",
       "      <td>13.0</td>\n",
       "      <td>1.0</td>\n",
       "      <td>1.0</td>\n",
       "    </tr>\n",
       "    <tr>\n",
       "      <th>3</th>\n",
       "      <td>134.0</td>\n",
       "      <td>0.003</td>\n",
       "      <td>0.0</td>\n",
       "      <td>0.008</td>\n",
       "      <td>0.003</td>\n",
       "      <td>0.0</td>\n",
       "      <td>0.0</td>\n",
       "      <td>16.0</td>\n",
       "      <td>2.4</td>\n",
       "      <td>0.0</td>\n",
       "      <td>...</td>\n",
       "      <td>53.0</td>\n",
       "      <td>170.0</td>\n",
       "      <td>11.0</td>\n",
       "      <td>0.0</td>\n",
       "      <td>137.0</td>\n",
       "      <td>134.0</td>\n",
       "      <td>137.0</td>\n",
       "      <td>13.0</td>\n",
       "      <td>1.0</td>\n",
       "      <td>2.0</td>\n",
       "    </tr>\n",
       "    <tr>\n",
       "      <th>4</th>\n",
       "      <td>132.0</td>\n",
       "      <td>0.007</td>\n",
       "      <td>0.0</td>\n",
       "      <td>0.008</td>\n",
       "      <td>0.000</td>\n",
       "      <td>0.0</td>\n",
       "      <td>0.0</td>\n",
       "      <td>16.0</td>\n",
       "      <td>2.4</td>\n",
       "      <td>0.0</td>\n",
       "      <td>...</td>\n",
       "      <td>53.0</td>\n",
       "      <td>170.0</td>\n",
       "      <td>9.0</td>\n",
       "      <td>0.0</td>\n",
       "      <td>137.0</td>\n",
       "      <td>136.0</td>\n",
       "      <td>138.0</td>\n",
       "      <td>11.0</td>\n",
       "      <td>1.0</td>\n",
       "      <td>2.0</td>\n",
       "    </tr>\n",
       "  </tbody>\n",
       "</table>\n",
       "<p>5 rows × 22 columns</p>\n",
       "</div>"
      ],
      "text/plain": [
       "   baseline value  accelerations  fetal_movement  uterine_contractions  \\\n",
       "0           120.0          0.000             0.0                 0.000   \n",
       "1           132.0          0.006             0.0                 0.006   \n",
       "2           133.0          0.003             0.0                 0.008   \n",
       "3           134.0          0.003             0.0                 0.008   \n",
       "4           132.0          0.007             0.0                 0.008   \n",
       "\n",
       "   light_decelerations  severe_decelerations  prolongued_decelerations  \\\n",
       "0                0.000                   0.0                       0.0   \n",
       "1                0.003                   0.0                       0.0   \n",
       "2                0.003                   0.0                       0.0   \n",
       "3                0.003                   0.0                       0.0   \n",
       "4                0.000                   0.0                       0.0   \n",
       "\n",
       "   abnormal_short_term_variability  mean_value_of_short_term_variability  \\\n",
       "0                             73.0                                   0.5   \n",
       "1                             17.0                                   2.1   \n",
       "2                             16.0                                   2.1   \n",
       "3                             16.0                                   2.4   \n",
       "4                             16.0                                   2.4   \n",
       "\n",
       "   percentage_of_time_with_abnormal_long_term_variability  ...  histogram_min  \\\n",
       "0                                               43.0       ...           62.0   \n",
       "1                                                0.0       ...           68.0   \n",
       "2                                                0.0       ...           68.0   \n",
       "3                                                0.0       ...           53.0   \n",
       "4                                                0.0       ...           53.0   \n",
       "\n",
       "   histogram_max  histogram_number_of_peaks  histogram_number_of_zeroes  \\\n",
       "0          126.0                        2.0                         0.0   \n",
       "1          198.0                        6.0                         1.0   \n",
       "2          198.0                        5.0                         1.0   \n",
       "3          170.0                       11.0                         0.0   \n",
       "4          170.0                        9.0                         0.0   \n",
       "\n",
       "   histogram_mode  histogram_mean  histogram_median  histogram_variance  \\\n",
       "0           120.0           137.0             121.0                73.0   \n",
       "1           141.0           136.0             140.0                12.0   \n",
       "2           141.0           135.0             138.0                13.0   \n",
       "3           137.0           134.0             137.0                13.0   \n",
       "4           137.0           136.0             138.0                11.0   \n",
       "\n",
       "   fetal_health  hist_tendency  \n",
       "0           2.0            2.0  \n",
       "1           1.0            1.0  \n",
       "2           1.0            1.0  \n",
       "3           1.0            2.0  \n",
       "4           1.0            2.0  \n",
       "\n",
       "[5 rows x 22 columns]"
      ]
     },
     "execution_count": 2,
     "metadata": {},
     "output_type": "execute_result"
    }
   ],
   "source": [
    "fetal_health_df = pd.read_csv('C:/Users/user/Desktop/Fetal Health Classification Project/fetal_health.csv')\n",
    "\n",
    "def tendency(t):\n",
    "    if t == 1.0: return 2.0\n",
    "    elif t == 0.0: return 1.0\n",
    "    else: return 0.0\n",
    "\n",
    "fetal_health_df['hist_tendency'] = [tendency(t) for t in fetal_health_df.histogram_tendency]\n",
    "fetal_health_df = fetal_health_df.drop(['histogram_tendency'], axis = 1)\n",
    "fetal_health_df.head()"
   ]
  },
  {
   "cell_type": "markdown",
   "metadata": {},
   "source": [
    "### Data Exploration"
   ]
  },
  {
   "cell_type": "code",
   "execution_count": 3,
   "metadata": {},
   "outputs": [
    {
     "name": "stdout",
     "output_type": "stream",
     "text": [
      "Number of Foeti in each Category\n",
      "\n",
      "1.0    1655\n",
      "2.0     295\n",
      "3.0     176\n",
      "Name: fetal_health, dtype: int64\n",
      "\n"
     ]
    },
    {
     "data": {
      "image/png": "[encoded data removed]",
      "text/plain": [
       "<Figure size 432x288 with 1 Axes>"
      ]
     },
     "metadata": {
      "needs_background": "light"
     },
     "output_type": "display_data"
    },
    {
     "name": "stdout",
     "output_type": "stream",
     "text": [
      "Percentage of Normal Foeti: 77.85%\n",
      "Percentage of Foeti with Suspected Irregularities: 13.88%\n",
      "Percentage of Foeti with necessary pathology procedures needed: 8.28%\n"
     ]
    }
   ],
   "source": [
    "classifier_count = fetal_health_df['fetal_health'].value_counts()\n",
    "print('Number of Foeti in each Category')\n",
    "print('')\n",
    "print(classifier_count)\n",
    "print('')\n",
    "count_plot = sns.countplot(x = 'fetal_health', data = fetal_health_df, palette = 'pastel')\n",
    "count_plot.set(xlabel = 'Health of Foetus', ylabel = 'Number of Foetus', title = 'Number of Foeti in each Health Category')\n",
    "plt.show()\n",
    "\n",
    "def percentage_calc(category_string):\n",
    "    pct_1 = len(fetal_health_df[fetal_health_df['fetal_health'] == category_string[0]]) / len(fetal_health_df) * 100\n",
    "    pct_2 = len(fetal_health_df[fetal_health_df['fetal_health'] == category_string[1]]) / len(fetal_health_df) * 100\n",
    "    pct_3 = len(fetal_health_df[fetal_health_df['fetal_health'] == category_string[2]]) / len(fetal_health_df) * 100\n",
    "    print(f'Percentage of Normal Foeti: {pct_1:.2f}%')\n",
    "    print(f'Percentage of Foeti with Suspected Irregularities: {pct_2:.2f}%')\n",
    "    print(f'Percentage of Foeti with necessary pathology procedures needed: {pct_3:.2f}%')\n",
    "    \n",
    "string = [1.0, 2.0, 3.0]    \n",
    "percentage_calc(string)"
   ]
  },
  {
   "cell_type": "markdown",
   "metadata": {},
   "source": [
    "#### It is obeserved that the classes are imbalanced with a ratio of 78:14:8, a resampling method will be carried out to have a balanced dataset"
   ]
  },
  {
   "cell_type": "markdown",
   "metadata": {},
   "source": [
    "   "
   ]
  },
  {
   "cell_type": "code",
   "execution_count": 4,
   "metadata": {
    "scrolled": true
   },
   "outputs": [
    {
     "data": {
      "text/html": [
       "<div>\n",
       "<style scoped>\n",
       "    .dataframe tbody tr th:only-of-type {\n",
       "        vertical-align: middle;\n",
       "    }\n",
       "\n",
       "    .dataframe tbody tr th {\n",
       "        vertical-align: top;\n",
       "    }\n",
       "\n",
       "    .dataframe thead th {\n",
       "        text-align: right;\n",
       "    }\n",
       "</style>\n",
       "<table border=\"1\" class=\"dataframe\">\n",
       "  <thead>\n",
       "    <tr style=\"text-align: right;\">\n",
       "      <th></th>\n",
       "      <th>baseline value</th>\n",
       "      <th>accelerations</th>\n",
       "      <th>fetal_movement</th>\n",
       "      <th>uterine_contractions</th>\n",
       "      <th>light_decelerations</th>\n",
       "      <th>severe_decelerations</th>\n",
       "      <th>prolongued_decelerations</th>\n",
       "      <th>abnormal_short_term_variability</th>\n",
       "      <th>mean_value_of_short_term_variability</th>\n",
       "      <th>percentage_of_time_with_abnormal_long_term_variability</th>\n",
       "    </tr>\n",
       "    <tr>\n",
       "      <th>fetal_health</th>\n",
       "      <th></th>\n",
       "      <th></th>\n",
       "      <th></th>\n",
       "      <th></th>\n",
       "      <th></th>\n",
       "      <th></th>\n",
       "      <th></th>\n",
       "      <th></th>\n",
       "      <th></th>\n",
       "      <th></th>\n",
       "    </tr>\n",
       "  </thead>\n",
       "  <tbody>\n",
       "    <tr>\n",
       "      <th>1.0</th>\n",
       "      <td>131.981873</td>\n",
       "      <td>0.003992</td>\n",
       "      <td>0.007963</td>\n",
       "      <td>0.004781</td>\n",
       "      <td>0.001941</td>\n",
       "      <td>6.042296e-07</td>\n",
       "      <td>0.000051</td>\n",
       "      <td>42.465861</td>\n",
       "      <td>1.430634</td>\n",
       "      <td>5.044713</td>\n",
       "    </tr>\n",
       "    <tr>\n",
       "      <th>2.0</th>\n",
       "      <td>141.684746</td>\n",
       "      <td>0.000275</td>\n",
       "      <td>0.008332</td>\n",
       "      <td>0.002390</td>\n",
       "      <td>0.000536</td>\n",
       "      <td>0.000000e+00</td>\n",
       "      <td>0.000095</td>\n",
       "      <td>61.901695</td>\n",
       "      <td>0.638983</td>\n",
       "      <td>29.030508</td>\n",
       "    </tr>\n",
       "    <tr>\n",
       "      <th>3.0</th>\n",
       "      <td>131.687500</td>\n",
       "      <td>0.000392</td>\n",
       "      <td>0.025676</td>\n",
       "      <td>0.003784</td>\n",
       "      <td>0.003670</td>\n",
       "      <td>3.409091e-05</td>\n",
       "      <td>0.001273</td>\n",
       "      <td>64.539773</td>\n",
       "      <td>1.575568</td>\n",
       "      <td>22.846591</td>\n",
       "    </tr>\n",
       "  </tbody>\n",
       "</table>\n",
       "</div>"
      ],
      "text/plain": [
       "              baseline value  accelerations  fetal_movement  \\\n",
       "fetal_health                                                  \n",
       "1.0               131.981873       0.003992        0.007963   \n",
       "2.0               141.684746       0.000275        0.008332   \n",
       "3.0               131.687500       0.000392        0.025676   \n",
       "\n",
       "              uterine_contractions  light_decelerations  severe_decelerations  \\\n",
       "fetal_health                                                                    \n",
       "1.0                       0.004781             0.001941          6.042296e-07   \n",
       "2.0                       0.002390             0.000536          0.000000e+00   \n",
       "3.0                       0.003784             0.003670          3.409091e-05   \n",
       "\n",
       "              prolongued_decelerations  abnormal_short_term_variability  \\\n",
       "fetal_health                                                              \n",
       "1.0                           0.000051                        42.465861   \n",
       "2.0                           0.000095                        61.901695   \n",
       "3.0                           0.001273                        64.539773   \n",
       "\n",
       "              mean_value_of_short_term_variability  \\\n",
       "fetal_health                                         \n",
       "1.0                                       1.430634   \n",
       "2.0                                       0.638983   \n",
       "3.0                                       1.575568   \n",
       "\n",
       "              percentage_of_time_with_abnormal_long_term_variability  \n",
       "fetal_health                                                          \n",
       "1.0                                                    5.044713       \n",
       "2.0                                                   29.030508       \n",
       "3.0                                                   22.846591       "
      ]
     },
     "execution_count": 4,
     "metadata": {},
     "output_type": "execute_result"
    }
   ],
   "source": [
    "fetal_health_df.groupby('fetal_health').mean().iloc[:, :10]"
   ]
  },
  {
   "cell_type": "code",
   "execution_count": 5,
   "metadata": {
    "scrolled": true
   },
   "outputs": [
    {
     "data": {
      "text/html": [
       "<div>\n",
       "<style scoped>\n",
       "    .dataframe tbody tr th:only-of-type {\n",
       "        vertical-align: middle;\n",
       "    }\n",
       "\n",
       "    .dataframe tbody tr th {\n",
       "        vertical-align: top;\n",
       "    }\n",
       "\n",
       "    .dataframe thead th {\n",
       "        text-align: right;\n",
       "    }\n",
       "</style>\n",
       "<table border=\"1\" class=\"dataframe\">\n",
       "  <thead>\n",
       "    <tr style=\"text-align: right;\">\n",
       "      <th></th>\n",
       "      <th>histogram_width</th>\n",
       "      <th>histogram_min</th>\n",
       "      <th>histogram_max</th>\n",
       "      <th>histogram_number_of_peaks</th>\n",
       "      <th>histogram_number_of_zeroes</th>\n",
       "      <th>histogram_mode</th>\n",
       "      <th>histogram_mean</th>\n",
       "      <th>histogram_median</th>\n",
       "      <th>histogram_variance</th>\n",
       "      <th>hist_tendency</th>\n",
       "    </tr>\n",
       "    <tr>\n",
       "      <th>fetal_health</th>\n",
       "      <th></th>\n",
       "      <th></th>\n",
       "      <th></th>\n",
       "      <th></th>\n",
       "      <th></th>\n",
       "      <th></th>\n",
       "      <th></th>\n",
       "      <th></th>\n",
       "      <th></th>\n",
       "      <th></th>\n",
       "    </tr>\n",
       "  </thead>\n",
       "  <tbody>\n",
       "    <tr>\n",
       "      <th>1.0</th>\n",
       "      <td>73.400000</td>\n",
       "      <td>91.085801</td>\n",
       "      <td>164.485801</td>\n",
       "      <td>4.163142</td>\n",
       "      <td>0.335347</td>\n",
       "      <td>138.258610</td>\n",
       "      <td>135.102115</td>\n",
       "      <td>138.459819</td>\n",
       "      <td>17.479758</td>\n",
       "      <td>1.341994</td>\n",
       "    </tr>\n",
       "    <tr>\n",
       "      <th>2.0</th>\n",
       "      <td>49.159322</td>\n",
       "      <td>113.294915</td>\n",
       "      <td>162.454237</td>\n",
       "      <td>3.311864</td>\n",
       "      <td>0.244068</td>\n",
       "      <td>146.555932</td>\n",
       "      <td>144.759322</td>\n",
       "      <td>147.071186</td>\n",
       "      <td>7.213559</td>\n",
       "      <td>1.433898</td>\n",
       "    </tr>\n",
       "    <tr>\n",
       "      <th>3.0</th>\n",
       "      <td>78.346591</td>\n",
       "      <td>83.982955</td>\n",
       "      <td>162.329545</td>\n",
       "      <td>4.443182</td>\n",
       "      <td>0.346591</td>\n",
       "      <td>114.607955</td>\n",
       "      <td>112.977273</td>\n",
       "      <td>119.562500</td>\n",
       "      <td>50.732955</td>\n",
       "      <td>0.926136</td>\n",
       "    </tr>\n",
       "  </tbody>\n",
       "</table>\n",
       "</div>"
      ],
      "text/plain": [
       "              histogram_width  histogram_min  histogram_max  \\\n",
       "fetal_health                                                  \n",
       "1.0                 73.400000      91.085801     164.485801   \n",
       "2.0                 49.159322     113.294915     162.454237   \n",
       "3.0                 78.346591      83.982955     162.329545   \n",
       "\n",
       "              histogram_number_of_peaks  histogram_number_of_zeroes  \\\n",
       "fetal_health                                                          \n",
       "1.0                            4.163142                    0.335347   \n",
       "2.0                            3.311864                    0.244068   \n",
       "3.0                            4.443182                    0.346591   \n",
       "\n",
       "              histogram_mode  histogram_mean  histogram_median  \\\n",
       "fetal_health                                                     \n",
       "1.0               138.258610      135.102115        138.459819   \n",
       "2.0               146.555932      144.759322        147.071186   \n",
       "3.0               114.607955      112.977273        119.562500   \n",
       "\n",
       "              histogram_variance  hist_tendency  \n",
       "fetal_health                                     \n",
       "1.0                    17.479758       1.341994  \n",
       "2.0                     7.213559       1.433898  \n",
       "3.0                    50.732955       0.926136  "
      ]
     },
     "execution_count": 5,
     "metadata": {},
     "output_type": "execute_result"
    }
   ],
   "source": [
    "fetal_health_df.groupby('fetal_health').mean().iloc[:, 11:]"
   ]
  },
  {
   "cell_type": "markdown",
   "metadata": {},
   "source": [
    "###### Obeservations:\n",
    "A linear relationship can be seen in fetal movement, prolonged decelerations and abnormal short term variability. Further studies can bring us to a better conclusion on whether there is a connection between the said variables and a foetus' health.\n",
    "\n",
    "However, the 'suspected' category has a non-linear relationship with most of the variables as it would be the minimum and sometimes the maxomum of the three categories. Further studies into these scenarios would be required for us to have a better understanding for this behaviour."
   ]
  },
  {
   "cell_type": "markdown",
   "metadata": {},
   "source": [
    "### Data Preprocessing"
   ]
  },
  {
   "cell_type": "code",
   "execution_count": 98,
   "metadata": {},
   "outputs": [
    {
     "data": {
      "image/png": "[encoded data removed]",
      "text/plain": [
       "<Figure size 432x288 with 1 Axes>"
      ]
     },
     "metadata": {
      "needs_background": "light"
     },
     "output_type": "display_data"
    },
    {
     "name": "stdout",
     "output_type": "stream",
     "text": [
      "Length of Oversampled Data is 3477\n",
      "Percentage of Normal Foeti: 33.33%\n",
      "Percentage of Foeti with Suspected Irregularities: 33.33%\n",
      "Percentage of Foeti with necessary pathology procedures needed: 33.33%\n"
     ]
    }
   ],
   "source": [
    "features = fetal_health_df.loc[:, fetal_health_df.columns != 'fetal_health']\n",
    "target = fetal_health_df.loc[:, fetal_health_df.columns == 'fetal_health']\n",
    "\n",
    "smote = SMOTE(random_state = 42)\n",
    "X_train, X_test, y_train, y_test = train_test_split(features, target, \n",
    "                                                    train_size = 0.7, \n",
    "                                                   random_state = 42)\n",
    "columns = X_train.columns\n",
    "\n",
    "os_X, os_y = smote.fit_resample(X_train, y_train)\n",
    "os_X = pd.DataFrame(os_X, columns = columns)\n",
    "\n",
    "count_plot = sns.countplot(x = 'fetal_health', data = os_y, palette = 'pastel')\n",
    "count_plot.set(xlabel = 'Health of Foetus', ylabel = 'Number of Foetus', title = 'Number of Foeti in each Health Category')\n",
    "plt.show()\n",
    "\n",
    "print('Length of Oversampled Data is',len(os_X))\n",
    "\n",
    "def percentage_calc(category_string):\n",
    "    pct_1 = len(os_y[os_y['fetal_health'] == category_string[0]]) / len(os_y) * 100\n",
    "    pct_2 = len(os_y[os_y['fetal_health'] == category_string[1]]) / len(os_y) * 100\n",
    "    pct_3 = len(os_y[os_y['fetal_health'] == category_string[2]]) / len(os_y) * 100\n",
    "    print(f'Percentage of Normal Foeti: {pct_1:.2f}%')\n",
    "    print(f'Percentage of Foeti with Suspected Irregularities: {pct_2:.2f}%')\n",
    "    print(f'Percentage of Foeti with necessary pathology procedures needed: {pct_3:.2f}%')\n",
    "    \n",
    "string = [1.0, 2.0, 3.0]    \n",
    "percentage_calc(string)"
   ]
  },
  {
   "cell_type": "markdown",
   "metadata": {},
   "source": [
    "#### We have successfully created a balanced dataset! We can carry on with our analysis"
   ]
  },
  {
   "cell_type": "markdown",
   "metadata": {},
   "source": [
    "### Statistical Analysis"
   ]
  },
  {
   "cell_type": "code",
   "execution_count": 7,
   "metadata": {
    "scrolled": true
   },
   "outputs": [
    {
     "name": "stdout",
     "output_type": "stream",
     "text": [
      "Optimization terminated successfully.\n",
      "         Current function value: 0.314259\n",
      "         Iterations 9\n",
      "                         Results: Logit\n",
      "================================================================\n",
      "Model:              Logit            Pseudo R-squared: 0.547    \n",
      "Dependent Variable: y                AIC:              2227.3544\n",
      "Date:               2021-11-28 22:04 BIC:              2356.5869\n",
      "No. Observations:   3477             Log-Likelihood:   -1092.7  \n",
      "Df Model:           20               LL-Null:          -2410.1  \n",
      "Df Residuals:       3456             LLR p-value:      0.0000   \n",
      "Converged:          1.0000           Scale:            1.0000   \n",
      "No. Iterations:     9.0000                                      \n",
      "------------------------------------------------------------------\n",
      "         Coef.    Std.Err.      z      P>|z|     [0.025     0.975]\n",
      "------------------------------------------------------------------\n",
      "x1       3.4392     0.9316    3.6919   0.0002     1.6134    5.2650\n",
      "x2      -8.7969     1.1764   -7.4777   0.0000   -11.1026   -6.4912\n",
      "x3       2.5589     0.6131    4.1737   0.0000     1.3572    3.7606\n",
      "x4      -0.9790     0.3439   -2.8464   0.0044    -1.6531   -0.3049\n",
      "x5      -0.7024     0.5986   -1.1735   0.2406    -1.8756    0.4708\n",
      "x6       0.9604     1.2947    0.7418   0.4582    -1.5772    3.4980\n",
      "x7       5.3571     0.8701    6.1571   0.0000     3.6518    7.0624\n",
      "x8       4.2836     0.4521    9.4740   0.0000     3.3974    5.1698\n",
      "x9      -1.9612     1.0303   -1.9037   0.0570    -3.9805    0.0580\n",
      "x10      1.6836     0.2709    6.2157   0.0000     1.1527    2.2145\n",
      "x11      0.7832     0.9627    0.8136   0.4159    -1.1036    2.6700\n",
      "x12     -2.6600     2.0665   -1.2872   0.1980    -6.7102    1.3903\n",
      "x13     -0.6027     1.2328   -0.4889   0.6249    -3.0189    1.8134\n",
      "x14      5.4745     1.4183    3.8600   0.0001     2.6947    8.2543\n",
      "x15     -1.8914     0.5954   -3.1765   0.0015    -3.0584   -0.7243\n",
      "x16      0.5458     0.5652    0.9657   0.3342    -0.5619    1.6536\n",
      "x17     -4.6206     1.8737   -2.4660   0.0137    -8.2931   -0.9482\n",
      "x18     -4.8544     2.0600   -2.3565   0.0184    -8.8919   -0.8169\n",
      "x19     -0.3355     2.9575   -0.1134   0.9097    -6.1321    5.4611\n",
      "x20      4.6740     1.1239    4.1587   0.0000     2.4712    6.8768\n",
      "x21      0.6842     0.2840    2.4091   0.0160     0.1276    1.2408\n",
      "================================================================\n",
      "\n"
     ]
    }
   ],
   "source": [
    "scaler = preprocessing.MinMaxScaler()\n",
    "scaled_X = scaler.fit_transform(os_X)\n",
    "scaled_y = scaler.fit_transform(os_y)\n",
    "logit = sm.Logit(scaled_y, scaled_X)\n",
    "result = logit.fit()\n",
    "print(result.summary2())"
   ]
  },
  {
   "cell_type": "code",
   "execution_count": 8,
   "metadata": {
    "scrolled": true
   },
   "outputs": [
    {
     "name": "stdout",
     "output_type": "stream",
     "text": [
      "Optimization terminated successfully.\n",
      "         Current function value: 0.317304\n",
      "         Iterations 9\n",
      "                         Results: Logit\n",
      "================================================================\n",
      "Model:              Logit            Pseudo R-squared: 0.542    \n",
      "Dependent Variable: y                AIC:              2232.5348\n",
      "Date:               2021-11-28 22:04 BIC:              2312.5359\n",
      "No. Observations:   3477             Log-Likelihood:   -1103.3  \n",
      "Df Model:           12               LL-Null:          -2410.1  \n",
      "Df Residuals:       3464             LLR p-value:      0.0000   \n",
      "Converged:          1.0000           Scale:            1.0000   \n",
      "No. Iterations:     9.0000                                      \n",
      "------------------------------------------------------------------\n",
      "         Coef.    Std.Err.      z      P>|z|     [0.025     0.975]\n",
      "------------------------------------------------------------------\n",
      "x1       3.8629     0.6396    6.0398   0.0000     2.6094    5.1165\n",
      "x2      -8.9050     1.1153   -7.9846   0.0000   -11.0909   -6.7191\n",
      "x3       2.3862     0.5793    4.1192   0.0000     1.2508    3.5216\n",
      "x4      -1.3135     0.3046   -4.3122   0.0000    -1.9105   -0.7165\n",
      "x5       5.2104     0.7052    7.3886   0.0000     3.8282    6.5925\n",
      "x6       3.7671     0.2730   13.7966   0.0000     3.2319    4.3023\n",
      "x7       1.8617     0.2371    7.8517   0.0000     1.3970    2.3264\n",
      "x8       2.5598     0.6487    3.9458   0.0001     1.2883    3.8313\n",
      "x9      -2.5088     0.5317   -4.7187   0.0000    -3.5509   -1.4668\n",
      "x10     -6.6618     1.3399   -4.9719   0.0000    -9.2880   -4.0357\n",
      "x11     -2.2300     1.3284   -1.6787   0.0932    -4.8336    0.3736\n",
      "x12      3.3210     1.0190    3.2590   0.0011     1.3238    5.3183\n",
      "x13      0.1254     0.2131    0.5882   0.5564    -0.2923    0.5430\n",
      "================================================================\n",
      "\n"
     ]
    }
   ],
   "source": [
    "os_X = os_X[['baseline value', 'accelerations', 'fetal_movement', 'uterine_contractions', 'prolongued_decelerations', \n",
    "             'abnormal_short_term_variability', 'percentage_of_time_with_abnormal_long_term_variability', 'histogram_max', \n",
    "             'histogram_number_of_peaks', 'histogram_mode', 'histogram_mean', 'histogram_variance', 'hist_tendency']]\n",
    "\n",
    "scaled_X = scaler.fit_transform(os_X)\n",
    "logit = sm.Logit(scaled_y, scaled_X)\n",
    "result = logit.fit()\n",
    "print(result.summary2())"
   ]
  },
  {
   "cell_type": "code",
   "execution_count": 9,
   "metadata": {
    "scrolled": true
   },
   "outputs": [
    {
     "name": "stdout",
     "output_type": "stream",
     "text": [
      "Optimization terminated successfully.\n",
      "         Current function value: 0.317338\n",
      "         Iterations 9\n",
      "                         Results: Logit\n",
      "================================================================\n",
      "Model:              Logit            Pseudo R-squared: 0.542    \n",
      "Dependent Variable: y                AIC:              2228.7706\n",
      "Date:               2021-11-28 22:04 BIC:              2296.4638\n",
      "No. Observations:   3477             Log-Likelihood:   -1103.4  \n",
      "Df Model:           10               LL-Null:          -2410.1  \n",
      "Df Residuals:       3466             LLR p-value:      0.0000   \n",
      "Converged:          1.0000           Scale:            1.0000   \n",
      "No. Iterations:     9.0000                                      \n",
      "------------------------------------------------------------------\n",
      "        Coef.    Std.Err.      z       P>|z|     [0.025     0.975]\n",
      "------------------------------------------------------------------\n",
      "x1      3.6164     0.6085     5.9436   0.0000     2.4239    4.8089\n",
      "x2     -9.0835     1.1097    -8.1854   0.0000   -11.2585   -6.9085\n",
      "x3      2.3244     0.5840     3.9804   0.0001     1.1798    3.4690\n",
      "x4     -1.2166     0.2977    -4.0873   0.0000    -1.8000   -0.6332\n",
      "x5      5.5074     0.6703     8.2163   0.0000     4.1937    6.8212\n",
      "x6      3.8261     0.2721    14.0598   0.0000     3.2927    4.3594\n",
      "x7      1.8212     0.2352     7.7436   0.0000     1.3602    2.2822\n",
      "x8      2.3329     0.5660     4.1216   0.0000     1.2235    3.4422\n",
      "x9     -2.2633     0.4779    -4.7360   0.0000    -3.2000   -1.3267\n",
      "x10    -8.4449     0.6735   -12.5382   0.0000    -9.7650   -7.1248\n",
      "x11     4.0181     0.9464     4.2455   0.0000     2.1631    5.8730\n",
      "================================================================\n",
      "\n"
     ]
    }
   ],
   "source": [
    "os_X = os_X[['baseline value', 'accelerations', 'fetal_movement', 'uterine_contractions', 'prolongued_decelerations', \n",
    "             'abnormal_short_term_variability', 'percentage_of_time_with_abnormal_long_term_variability', 'histogram_max', \n",
    "             'histogram_number_of_peaks', 'histogram_mode', 'histogram_variance']]\n",
    "\n",
    "scaled_X = scaler.fit_transform(os_X)\n",
    "logit = sm.Logit(scaled_y, scaled_X)\n",
    "result = logit.fit()\n",
    "print(result.summary2())"
   ]
  },
  {
   "cell_type": "markdown",
   "metadata": {},
   "source": [
    "##### Observations:\n",
    "\n",
    "All variables have a p-values less than 0.05 and thus we have the data ready for training the model"
   ]
  },
  {
   "cell_type": "markdown",
   "metadata": {},
   "source": [
    "### Hyperparameter Tuning"
   ]
  },
  {
   "cell_type": "code",
   "execution_count": 71,
   "metadata": {
    "scrolled": true
   },
   "outputs": [
    {
     "name": "stdout",
     "output_type": "stream",
     "text": [
      "Fitting 2 folds for each of 24 candidates, totalling 48 fits\n",
      "Best Hyperparamter: {'fit_intercept': True, 'max_iter': 10000, 'penalty': 'none', 'solver': 'newton-cg', 'tol': 0.001}\n",
      "Best Hyperparameter Score: 0.8894\n"
     ]
    }
   ],
   "source": [
    "features = os_X[['baseline value', 'accelerations', 'fetal_movement', 'uterine_contractions', 'prolongued_decelerations', \n",
    "                 'abnormal_short_term_variability', 'percentage_of_time_with_abnormal_long_term_variability', 'histogram_max', \n",
    "                 'histogram_number_of_peaks', 'histogram_mode', 'histogram_variance']]\n",
    "target = os_y\n",
    "target = target.values.ravel()\n",
    "X_train, X_test, y_train, y_test = train_test_split(features, target, train_size = 0.7, random_state = 42)\n",
    "\n",
    "model = LogisticRegression(random_state = 42)\n",
    "grid = {'penalty': ['l2', 'none'],\n",
    "        'tol': [0.0001, 0.001, 0.1],\n",
    "        'max_iter': [10000],\n",
    "        'solver': ['sag', 'newton-cg'],\n",
    "        'fit_intercept': [True, False]}\n",
    "\n",
    "model_grid = GridSearchCV(model, param_grid = grid, scoring = 'accuracy', cv = 2, verbose = 1)\n",
    "model_grid.fit(X_train, y_train)\n",
    "print('Best Hyperparamter:', model_grid.best_params_)\n",
    "print(f'Best Hyperparameter Score: {model_grid.best_score_:.4f}' )"
   ]
  },
  {
   "cell_type": "markdown",
   "metadata": {},
   "source": [
    "### Classification Model Traning, Predictions & Results"
   ]
  },
  {
   "cell_type": "code",
   "execution_count": 89,
   "metadata": {
    "scrolled": false
   },
   "outputs": [
    {
     "name": "stdout",
     "output_type": "stream",
     "text": [
      "Train Accuray: 89.11 %\n",
      "Test Accuray: 88.12 %\n",
      "\n",
      "Confusion Matrix\n",
      "\n",
      "[[315  40   5]\n",
      " [ 10 294  37]\n",
      " [  2  30 311]]\n",
      "\n",
      "Classification Report\n",
      "\n",
      "              precision    recall  f1-score   support\n",
      "\n",
      "         1.0       0.96      0.88      0.92       360\n",
      "         2.0       0.81      0.86      0.83       341\n",
      "         3.0       0.88      0.91      0.89       343\n",
      "\n",
      "    accuracy                           0.88      1044\n",
      "   macro avg       0.88      0.88      0.88      1044\n",
      "weighted avg       0.89      0.88      0.88      1044\n",
      "\n"
     ]
    }
   ],
   "source": [
    "features = os_X[['baseline value', 'accelerations', 'fetal_movement', 'uterine_contractions', 'prolongued_decelerations', \n",
    "                 'abnormal_short_term_variability', 'percentage_of_time_with_abnormal_long_term_variability', 'histogram_max', \n",
    "                 'histogram_number_of_peaks', 'histogram_mode', 'histogram_variance']]\n",
    "target = os_y\n",
    "target = target.values.ravel()\n",
    "X_train, X_test, y_train, y_test = train_test_split(features, target, train_size = 0.7, random_state = 42)\n",
    "\n",
    "model = LogisticRegression(fit_intercept = True, max_iter = 1e5, penalty = 'none', solver = 'newton-cg',\n",
    "                           tol = 1e-3, random_state = 42)\n",
    "model.fit(X_train, y_train)\n",
    "train_predictions = model.predict(X_train)\n",
    "test_predictions = model.predict(X_test)\n",
    "# confusion_matrix = confusion_matrix(y_test, test_predictions)\n",
    "\n",
    "print(f'Train Accuray: {accuracy_score(y_train, train_predictions) * 100:.2f} %')\n",
    "print(f'Test Accuray: {accuracy_score(y_test, test_predictions) * 100:.2f} %')\n",
    "print('')\n",
    "print('Confusion Matrix')\n",
    "print('')\n",
    "print(confusion_matrix)\n",
    "print('')\n",
    "print('Classification Report')\n",
    "print('')\n",
    "print(classification_report(y_test, test_predictions))"
   ]
  }
 ],
 "metadata": {
  "kernelspec": {
   "display_name": "Python 3",
   "language": "python",
   "name": "python3"
  },
  "language_info": {
   "codemirror_mode": {
    "name": "ipython",
    "version": 3
   },
   "file_extension": ".py",
   "mimetype": "text/x-python",
   "name": "python",
   "nbconvert_exporter": "python",
   "pygments_lexer": "ipython3",
   "version": "3.8.3"
  }
 },
 "nbformat": 4,
 "nbformat_minor": 4
}
